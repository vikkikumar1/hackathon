{
 "cells": [
  {
   "cell_type": "code",
   "execution_count": 4,
   "metadata": {},
   "outputs": [
    {
     "name": "stderr",
     "output_type": "stream",
     "text": [
      "[*********************100%***********************]  1 of 1 completed\n"
     ]
    }
   ],
   "source": [
    "import pandas as pd\n",
    "import numpy as np\n",
    "import yfinance as yf\n",
    "\n",
    "# Fetch market data\n",
    "def get_data(ticker):\n",
    "    data = yf.download(ticker, start=\"2020-01-01\", end=\"2024-01-01\")\n",
    "    return data\n",
    "\n",
    "# Preprocess the data\n",
    "def preprocess_data(data):\n",
    "    data = data.dropna()\n",
    "    data['Return'] = data['Close'].pct_change()\n",
    "    data['Direction'] = np.where(data['Return'] > 0, 1, 0)\n",
    "    return data\n",
    "\n",
    "data = get_data('AAPL')\n",
    "processed_data = preprocess_data(data)\n"
   ]
  },
  {
   "cell_type": "code",
   "execution_count": 5,
   "metadata": {},
   "outputs": [
    {
     "name": "stdout",
     "output_type": "stream",
     "text": [
      "Model Accuracy: 0.57\n"
     ]
    }
   ],
   "source": [
    "from sklearn.model_selection import train_test_split\n",
    "from sklearn.ensemble import RandomForestClassifier\n",
    "from sklearn.metrics import accuracy_score\n",
    "\n",
    "# Feature engineering\n",
    "def feature_engineering(data):\n",
    "    data['MA10'] = data['Close'].rolling(window=10).mean()\n",
    "    data['MA50'] = data['Close'].rolling(window=50).mean()\n",
    "    data = data.dropna()\n",
    "    return data\n",
    "\n",
    "# Model training\n",
    "def train_model(data):\n",
    "    X = data[['MA10', 'MA50', 'Volume']]\n",
    "    y = data['Direction']\n",
    "    X_train, X_test, y_train, y_test = train_test_split(X, y, test_size=0.2, random_state=42)\n",
    "    \n",
    "    model = RandomForestClassifier(n_estimators=100)\n",
    "    model.fit(X_train, y_train)\n",
    "    \n",
    "    y_pred = model.predict(X_test)\n",
    "    accuracy = accuracy_score(y_test, y_pred)\n",
    "    return model, accuracy\n",
    "\n",
    "data = feature_engineering(processed_data)\n",
    "model, accuracy = train_model(data)\n",
    "print(f\"Model Accuracy: {accuracy:.2f}\")\n"
   ]
  },
  {
   "cell_type": "code",
   "execution_count": null,
   "metadata": {},
   "outputs": [],
   "source": [
    "// Solidity version\n",
    "pragma solidity ^0.8.0;\n",
    "\n",
    "contract MarketPrediction {\n",
    "    address public owner;\n",
    "    string public prediction;\n",
    "\n",
    "    event NewPrediction(string _prediction);\n",
    "\n",
    "    constructor() {\n",
    "        owner = msg.sender;\n",
    "    }\n",
    "\n",
    "    function setPrediction(string memory _prediction) public {\n",
    "        require(msg.sender == owner, \"Only owner can set prediction\");\n",
    "        prediction = _prediction;\n",
    "        emit NewPrediction(_prediction);\n",
    "    }\n",
    "\n",
    "    function getPrediction() public view returns (string memory) {\n",
    "        return prediction;\n",
    "    }\n",
    "}\n"
   ]
  },
  {
   "cell_type": "code",
   "execution_count": null,
   "metadata": {},
   "outputs": [],
   "source": [
    "import Web3 from 'web3';\n",
    "\n",
    "const web3 = new Web3(Web3.givenProvider || \"http://localhost:8545\");\n",
    "const contractABI = [...];  // Replace with actual ABI\n",
    "const contractAddress = \"0x...\";  // Replace with actual contract address\n",
    "\n",
    "const contract = new web3.eth.Contract(contractABI, contractAddress);\n",
    "\n",
    "async function setPrediction(prediction) {\n",
    "    const accounts = await web3.eth.getAccounts();\n",
    "    await contract.methods.setPrediction(prediction).send({ from: accounts[0] });\n",
    "}\n",
    "\n",
    "async function getPrediction() {\n",
    "    const prediction = await contract.methods.getPrediction().call();\n",
    "    return prediction;\n",
    "}\n"
   ]
  },
  {
   "cell_type": "code",
   "execution_count": null,
   "metadata": {},
   "outputs": [],
   "source": [
    "import React, { useState, useEffect } from 'react';\n",
    "import { getPrediction, setPrediction } from './web3';\n",
    "\n",
    "function App() {\n",
    "    const [prediction, setPredictionState] = useState('');\n",
    "\n",
    "    useEffect(() => {\n",
    "        const fetchPrediction = async () => {\n",
    "            const pred = await getPrediction();\n",
    "            setPredictionState(pred);\n",
    "        };\n",
    "        fetchPrediction();\n",
    "    }, []);\n",
    "\n",
    "    const handleSetPrediction = async () => {\n",
    "        await setPrediction(prediction);\n",
    "    };\n",
    "\n",
    "    return (\n",
    "        <div>\n",
    "            <h1>Decentralized Market Prediction</h1>\n",
    "            <div>\n",
    "                <h2>Current Prediction: {prediction}</h2>\n",
    "                <input type=\"text\" onChange={(e) => setPredictionState(e.target.value)} />\n",
    "                <button onClick={handleSetPrediction}>Set Prediction</button>\n",
    "            </div>\n",
    "        </div>\n",
    "    );\n",
    "}\n",
    "\n",
    "export default App;\n"
   ]
  },
  {
   "cell_type": "code",
   "execution_count": null,
   "metadata": {},
   "outputs": [],
   "source": [
    "from flask import Flask, request, jsonify\n",
    "import joblib\n",
    "\n",
    "app = Flask(__name__)\n",
    "\n",
    "model = joblib.load('market_model.pkl')\n",
    "\n",
    "@app.route('/predict', methods=['POST'])\n",
    "def predict():\n",
    "    data = request.json\n",
    "    prediction = model.predict([data['features']])\n",
    "    return jsonify({'prediction': int(prediction[0])})\n",
    "\n",
    "if __name__ == '__main__':\n",
    "    app.run(debug=True)\n"
   ]
  }
 ],
 "metadata": {
  "kernelspec": {
   "display_name": "base",
   "language": "python",
   "name": "python3"
  },
  "language_info": {
   "codemirror_mode": {
    "name": "ipython",
    "version": 3
   },
   "file_extension": ".py",
   "mimetype": "text/x-python",
   "name": "python",
   "nbconvert_exporter": "python",
   "pygments_lexer": "ipython3",
   "version": "3.11.7"
  }
 },
 "nbformat": 4,
 "nbformat_minor": 2
}
